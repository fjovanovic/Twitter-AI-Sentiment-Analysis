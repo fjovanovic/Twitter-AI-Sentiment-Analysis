{
  "cells": [
    {
      "cell_type": "code",
      "execution_count": 1,
      "metadata": {
        "id": "d1QA3EBt31rI"
      },
      "outputs": [],
      "source": [
        "from typing import Tuple, Any\n",
        "\n",
        "import pandas as pd\n",
        "import numpy as np\n",
        "import joblib\n",
        "from termcolor import colored\n",
        "import matplotlib.pyplot as plt\n",
        "from sklearn.model_selection import train_test_split\n",
        "from sklearn.tree import DecisionTreeClassifier\n",
        "from sklearn.ensemble import RandomForestClassifier\n",
        "from sklearn.metrics import (\n",
        "    confusion_matrix,\n",
        "    classification_report,\n",
        "    precision_score,\n",
        "    recall_score,\n",
        "    accuracy_score,\n",
        "    f1_score,\n",
        "    roc_curve,\n",
        "    roc_auc_score\n",
        ")"
      ]
    },
    {
      "cell_type": "code",
      "execution_count": 2,
      "metadata": {
        "id": "UkUaUAy0KLlQ"
      },
      "outputs": [],
      "source": [
        "train_data = pd.read_csv('train.csv')\n",
        "test_data = pd.read_csv('test.csv')"
      ]
    },
    {
      "cell_type": "code",
      "execution_count": 3,
      "metadata": {
        "id": "x5XzF7IjKlvh"
      },
      "outputs": [],
      "source": [
        "X_train = train_data.iloc[:, :-1]\n",
        "Y_train = train_data.iloc[:, -1:]\n",
        "\n",
        "X_test = test_data.iloc[:, :-1]\n",
        "Y_test = test_data.iloc[:, -1:]"
      ]
    },
    {
      "cell_type": "markdown",
      "metadata": {
        "id": "dLwG2zbcUiRf"
      },
      "source": [
        "We divide X_train data into model training data and model validation data. We use data for model validation so as not to compromise the data for testing when determining the parameters of various models"
      ]
    },
    {
      "cell_type": "code",
      "execution_count": 4,
      "metadata": {
        "id": "P0VKHWO3UsmU"
      },
      "outputs": [],
      "source": [
        "(X_train, X_val, Y_train, Y_val) = train_test_split(X_train, Y_train, test_size=0.20, random_state=42, stratify=Y_train)"
      ]
    },
    {
      "cell_type": "code",
      "execution_count": 5,
      "metadata": {
        "id": "MyihOmXEUhLi"
      },
      "outputs": [],
      "source": [
        "def score_model(Y_true: pd.DataFrame, Y_pred: np.ndarray) -> Tuple[float, float, float, float]:\n",
        "    precision = precision_score(Y_true, Y_pred)\n",
        "    recall = recall_score(Y_true, Y_pred)\n",
        "    accuracy = accuracy_score(Y_true, Y_pred)\n",
        "    f1 = f1_score(Y_true, Y_pred)\n",
        "\n",
        "    return (precision, recall, accuracy, f1)"
      ]
    },
    {
      "cell_type": "code",
      "execution_count": 6,
      "metadata": {
        "id": "j5gMCGCLUv8_"
      },
      "outputs": [],
      "source": [
        "def report(model: Any, X_test: pd.DataFrame, Y_test: pd.Series, text: str = 'training') -> None:\n",
        "    Y_pred = model.predict(X_test)\n",
        "\n",
        "    print(colored(f'Classification report for model {type(model).__name__} on {text} data', 'green'))\n",
        "    print('---------------------------------------------------------------------------------')\n",
        "    print(classification_report(Y_test, Y_pred))\n",
        "    print('---------------------------------------------------------------------------------')\n",
        "\n",
        "    print(colored(f'Confusion matrix for model {type(model).__name__} on {text} data ', 'green'))\n",
        "    print('---------------------------------------------------------------------------------')\n",
        "    print(pd.DataFrame(confusion_matrix(Y_test, Y_pred), columns=['0', '1'], index=['0', '1']))\n",
        "    print('---------------------------------------------------------------------------------')"
      ]
    },
    {
      "cell_type": "markdown",
      "metadata": {
        "id": "FlBMihoAVGxN"
      },
      "source": [
        "# Training DecisionTreeClassifier"
      ]
    },
    {
      "cell_type": "code",
      "execution_count": 7,
      "metadata": {
        "colab": {
          "base_uri": "https://localhost:8080/",
          "height": 75
        },
        "id": "Cogep8nuVJfO",
        "outputId": "c7cfa9c2-ab64-43e7-ed52-2232458ca76a"
      },
      "outputs": [
        {
          "data": {
            "text/html": [
              "<style>#sk-container-id-1 {color: black;background-color: white;}#sk-container-id-1 pre{padding: 0;}#sk-container-id-1 div.sk-toggleable {background-color: white;}#sk-container-id-1 label.sk-toggleable__label {cursor: pointer;display: block;width: 100%;margin-bottom: 0;padding: 0.3em;box-sizing: border-box;text-align: center;}#sk-container-id-1 label.sk-toggleable__label-arrow:before {content: \"▸\";float: left;margin-right: 0.25em;color: #696969;}#sk-container-id-1 label.sk-toggleable__label-arrow:hover:before {color: black;}#sk-container-id-1 div.sk-estimator:hover label.sk-toggleable__label-arrow:before {color: black;}#sk-container-id-1 div.sk-toggleable__content {max-height: 0;max-width: 0;overflow: hidden;text-align: left;background-color: #f0f8ff;}#sk-container-id-1 div.sk-toggleable__content pre {margin: 0.2em;color: black;border-radius: 0.25em;background-color: #f0f8ff;}#sk-container-id-1 input.sk-toggleable__control:checked~div.sk-toggleable__content {max-height: 200px;max-width: 100%;overflow: auto;}#sk-container-id-1 input.sk-toggleable__control:checked~label.sk-toggleable__label-arrow:before {content: \"▾\";}#sk-container-id-1 div.sk-estimator input.sk-toggleable__control:checked~label.sk-toggleable__label {background-color: #d4ebff;}#sk-container-id-1 div.sk-label input.sk-toggleable__control:checked~label.sk-toggleable__label {background-color: #d4ebff;}#sk-container-id-1 input.sk-hidden--visually {border: 0;clip: rect(1px 1px 1px 1px);clip: rect(1px, 1px, 1px, 1px);height: 1px;margin: -1px;overflow: hidden;padding: 0;position: absolute;width: 1px;}#sk-container-id-1 div.sk-estimator {font-family: monospace;background-color: #f0f8ff;border: 1px dotted black;border-radius: 0.25em;box-sizing: border-box;margin-bottom: 0.5em;}#sk-container-id-1 div.sk-estimator:hover {background-color: #d4ebff;}#sk-container-id-1 div.sk-parallel-item::after {content: \"\";width: 100%;border-bottom: 1px solid gray;flex-grow: 1;}#sk-container-id-1 div.sk-label:hover label.sk-toggleable__label {background-color: #d4ebff;}#sk-container-id-1 div.sk-serial::before {content: \"\";position: absolute;border-left: 1px solid gray;box-sizing: border-box;top: 0;bottom: 0;left: 50%;z-index: 0;}#sk-container-id-1 div.sk-serial {display: flex;flex-direction: column;align-items: center;background-color: white;padding-right: 0.2em;padding-left: 0.2em;position: relative;}#sk-container-id-1 div.sk-item {position: relative;z-index: 1;}#sk-container-id-1 div.sk-parallel {display: flex;align-items: stretch;justify-content: center;background-color: white;position: relative;}#sk-container-id-1 div.sk-item::before, #sk-container-id-1 div.sk-parallel-item::before {content: \"\";position: absolute;border-left: 1px solid gray;box-sizing: border-box;top: 0;bottom: 0;left: 50%;z-index: -1;}#sk-container-id-1 div.sk-parallel-item {display: flex;flex-direction: column;z-index: 1;position: relative;background-color: white;}#sk-container-id-1 div.sk-parallel-item:first-child::after {align-self: flex-end;width: 50%;}#sk-container-id-1 div.sk-parallel-item:last-child::after {align-self: flex-start;width: 50%;}#sk-container-id-1 div.sk-parallel-item:only-child::after {width: 0;}#sk-container-id-1 div.sk-dashed-wrapped {border: 1px dashed gray;margin: 0 0.4em 0.5em 0.4em;box-sizing: border-box;padding-bottom: 0.4em;background-color: white;}#sk-container-id-1 div.sk-label label {font-family: monospace;font-weight: bold;display: inline-block;line-height: 1.2em;}#sk-container-id-1 div.sk-label-container {text-align: center;}#sk-container-id-1 div.sk-container {/* jupyter's `normalize.less` sets `[hidden] { display: none; }` but bootstrap.min.css set `[hidden] { display: none !important; }` so we also need the `!important` here to be able to override the default hidden behavior on the sphinx rendered scikit-learn.org. See: https://github.com/scikit-learn/scikit-learn/issues/21755 */display: inline-block !important;position: relative;}#sk-container-id-1 div.sk-text-repr-fallback {display: none;}</style><div id=\"sk-container-id-1\" class=\"sk-top-container\"><div class=\"sk-text-repr-fallback\"><pre>DecisionTreeClassifier()</pre><b>In a Jupyter environment, please rerun this cell to show the HTML representation or trust the notebook. <br />On GitHub, the HTML representation is unable to render, please try loading this page with nbviewer.org.</b></div><div class=\"sk-container\" hidden><div class=\"sk-item\"><div class=\"sk-estimator sk-toggleable\"><input class=\"sk-toggleable__control sk-hidden--visually\" id=\"sk-estimator-id-1\" type=\"checkbox\" checked><label for=\"sk-estimator-id-1\" class=\"sk-toggleable__label sk-toggleable__label-arrow\">DecisionTreeClassifier</label><div class=\"sk-toggleable__content\"><pre>DecisionTreeClassifier()</pre></div></div></div></div></div>"
            ],
            "text/plain": [
              "DecisionTreeClassifier()"
            ]
          },
          "execution_count": 7,
          "metadata": {},
          "output_type": "execute_result"
        }
      ],
      "source": [
        "dtc_model = DecisionTreeClassifier()\n",
        "dtc_model.fit(X_train, Y_train)"
      ]
    },
    {
      "cell_type": "code",
      "execution_count": 8,
      "metadata": {
        "colab": {
          "base_uri": "https://localhost:8080/"
        },
        "id": "KLQoYRrnVKKx",
        "outputId": "af9465a5-33b3-4bed-f3df-5f287693056d"
      },
      "outputs": [
        {
          "name": "stdout",
          "output_type": "stream",
          "text": [
            "Classification report for model DecisionTreeClassifier on train data\n",
            "---------------------------------------------------------------------------------\n",
            "              precision    recall  f1-score   support\n",
            "\n",
            "           0       1.00      1.00      1.00     15391\n",
            "           1       1.00      1.00      1.00     15391\n",
            "\n",
            "    accuracy                           1.00     30782\n",
            "   macro avg       1.00      1.00      1.00     30782\n",
            "weighted avg       1.00      1.00      1.00     30782\n",
            "\n",
            "---------------------------------------------------------------------------------\n",
            "Confusion matrix for model DecisionTreeClassifier on train data \n",
            "---------------------------------------------------------------------------------\n",
            "       0      1\n",
            "0  15355     36\n",
            "1      6  15385\n",
            "---------------------------------------------------------------------------------\n",
            "Classification report for model DecisionTreeClassifier on test data\n",
            "---------------------------------------------------------------------------------\n",
            "              precision    recall  f1-score   support\n",
            "\n",
            "           0       0.97      0.94      0.96      8245\n",
            "           1       0.44      0.62      0.51       603\n",
            "\n",
            "    accuracy                           0.92      8848\n",
            "   macro avg       0.71      0.78      0.73      8848\n",
            "weighted avg       0.93      0.92      0.93      8848\n",
            "\n",
            "---------------------------------------------------------------------------------\n",
            "Confusion matrix for model DecisionTreeClassifier on test data \n",
            "---------------------------------------------------------------------------------\n",
            "      0    1\n",
            "0  7771  474\n",
            "1   232  371\n",
            "---------------------------------------------------------------------------------\n"
          ]
        }
      ],
      "source": [
        "report(dtc_model, X_train, Y_train, 'train')\n",
        "report(dtc_model, X_test, Y_test, 'test')"
      ]
    },
    {
      "cell_type": "markdown",
      "metadata": {
        "id": "-3GQyDNhV6i1"
      },
      "source": [
        "Although the model seems to work perfectly on the training set, there has been some re-adjustment as shown by the results on the test set.\n",
        "\n",
        "We are looking for the appropriate model that is the most efficient based on the hyper parameter.\n",
        "It is important to note that we make predictions on the validation data so as not to compromise the test set"
      ]
    },
    {
      "cell_type": "code",
      "execution_count": 9,
      "metadata": {
        "id": "5mJA4ha2Vc6U"
      },
      "outputs": [],
      "source": [
        "dtc_results = {}\n",
        "dtc_cms = {}\n",
        "depths = [2, 6, 10, 20, 40, 60, 80, 100, 120, 140, 160]\n",
        "\n",
        "for depth in depths:\n",
        "    dtc_model = DecisionTreeClassifier(max_depth=depth)\n",
        "    dtc_model.fit(X_train, Y_train)\n",
        "\n",
        "    Y_pred = dtc_model.predict(X_val)\n",
        "\n",
        "    (precision, recall, accuracy, f1) = score_model(Y_val, Y_pred)\n",
        "\n",
        "    dtc_results[depth] = {\n",
        "        'precision': precision,\n",
        "        'recall': recall,\n",
        "        'accuracy': accuracy,\n",
        "        'f1': f1\n",
        "    }\n",
        "    dtc_cms[depth] = confusion_matrix(Y_val, Y_pred)"
      ]
    },
    {
      "cell_type": "code",
      "execution_count": 10,
      "metadata": {
        "colab": {
          "base_uri": "https://localhost:8080/",
          "height": 472
        },
        "id": "8-hVYZm8WCqZ",
        "outputId": "db8b7911-53cc-4779-cbf2-a3d1468173d7"
      },
      "outputs": [
        {
          "data": {
            "image/png": "[encoded data removed]",
            "text/plain": [
              "<Figure size 640x480 with 1 Axes>"
            ]
          },
          "metadata": {},
          "output_type": "display_data"
        }
      ],
      "source": [
        "for metric in dtc_results[depths[0]].keys():\n",
        "    plt.plot(depths, [dtc_results[key][metric] for key in dtc_results], label=metric)\n",
        "\n",
        "plt.legend()\n",
        "plt.title('Metrics for DecisionTreeClassifier')\n",
        "plt.xlabel('Max Depth')\n",
        "plt.ylabel('Score')\n",
        "plt.xticks(depths)\n",
        "plt.show()"
      ]
    },
    {
      "cell_type": "code",
      "execution_count": 11,
      "metadata": {
        "colab": {
          "base_uri": "https://localhost:8080/"
        },
        "id": "DayQPjWqWrPO",
        "outputId": "ad7d8c28-b9e9-4fee-c3a9-3555d4148511"
      },
      "outputs": [
        {
          "name": "stdout",
          "output_type": "stream",
          "text": [
            "Depth: 2\n",
            "337\t3511\n",
            "26\t3822\n",
            "-------------\n",
            "Depth: 6\n",
            "3792\t56\n",
            "2828\t1020\n",
            "-------------\n",
            "Depth: 10\n",
            "3781\t67\n",
            "2362\t1486\n",
            "-------------\n",
            "Depth: 20\n",
            "3705\t143\n",
            "1814\t2034\n",
            "-------------\n",
            "Depth: 40\n",
            "3699\t149\n",
            "1515\t2333\n",
            "-------------\n",
            "Depth: 60\n",
            "3699\t149\n",
            "1236\t2612\n",
            "-------------\n",
            "Depth: 80\n",
            "3676\t172\n",
            "1033\t2815\n",
            "-------------\n",
            "Depth: 100\n",
            "3667\t181\n",
            "806\t3042\n",
            "-------------\n",
            "Depth: 120\n",
            "3658\t190\n",
            "673\t3175\n",
            "-------------\n",
            "Depth: 140\n",
            "3644\t204\n",
            "538\t3310\n",
            "-------------\n",
            "Depth: 160\n",
            "3632\t216\n",
            "462\t3386\n",
            "-------------\n"
          ]
        }
      ],
      "source": [
        "for cm in dtc_cms:\n",
        "    print(f'Depth: {cm}')\n",
        "    print(f'{dtc_cms[cm][0][0]}\\t{dtc_cms[cm][0][1]}')\n",
        "    print(f'{dtc_cms[cm][1][0]}\\t{dtc_cms[cm][1][1]}')\n",
        "    print('-------------')"
      ]
    },
    {
      "cell_type": "markdown",
      "metadata": {
        "id": "YSxJZh3wkeFe"
      },
      "source": [
        "With the increase in the depth of the tree, we can see that the results become better. The number of hit for non-hatred instances is slowly decreasing, but the number of hit for hatred instances is growing significantly more. It can be seen from the attachment that the ratings for tweets that contain hate speech are significantly worse than tweets that do not contain hate speech, which is not surprising considering that our original set contained 93% of tweets that were characterized as not containing hate speech."
      ]
    },
    {
      "cell_type": "code",
      "execution_count": 12,
      "metadata": {
        "colab": {
          "base_uri": "https://localhost:8080/"
        },
        "id": "FaCOxAGbaPfi",
        "outputId": "0a71b3eb-01cc-41f7-f73b-b315cef34c1c"
      },
      "outputs": [
        {
          "name": "stdout",
          "output_type": "stream",
          "text": [
            "Classification report for model DecisionTreeClassifier on test data\n",
            "---------------------------------------------------------------------------------\n",
            "              precision    recall  f1-score   support\n",
            "\n",
            "           0       0.97      0.95      0.96      8245\n",
            "           1       0.46      0.57      0.51       603\n",
            "\n",
            "    accuracy                           0.93      8848\n",
            "   macro avg       0.72      0.76      0.74      8848\n",
            "weighted avg       0.93      0.93      0.93      8848\n",
            "\n",
            "---------------------------------------------------------------------------------\n",
            "Confusion matrix for model DecisionTreeClassifier on test data \n",
            "---------------------------------------------------------------------------------\n",
            "      0    1\n",
            "0  7848  397\n",
            "1   259  344\n",
            "---------------------------------------------------------------------------------\n"
          ]
        }
      ],
      "source": [
        "best_dtc_model = DecisionTreeClassifier(max_depth=160, criterion='gini')\n",
        "best_dtc_model.fit(X_train, Y_train)\n",
        "\n",
        "report(best_dtc_model, X_test, Y_test, 'test')"
      ]
    }
  ],
  "metadata": {
    "colab": {
      "provenance": []
    },
    "kernelspec": {
      "display_name": "Python 3",
      "name": "python3"
    },
    "language_info": {
      "name": "python"
    }
  },
  "nbformat": 4,
  "nbformat_minor": 0
}
